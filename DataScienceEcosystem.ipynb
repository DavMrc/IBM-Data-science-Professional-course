{
 "cells": [
  {
   "cell_type": "markdown",
   "id": "d8754481-de01-47cc-b1c0-72c9c8ea054d",
   "metadata": {
    "tags": []
   },
   "source": [
    "# Data Science Tools and Ecosystem"
   ]
  },
  {
   "cell_type": "markdown",
   "id": "0c4b5156-4cfd-4c52-bfa1-7a23ef38946a",
   "metadata": {},
   "source": [
    "In this notebook, Data Science Tools and Ecosystem are summarized."
   ]
  },
  {
   "cell_type": "markdown",
   "id": "5358756d-5f45-47e5-84e8-dad4f0942cfa",
   "metadata": {},
   "source": [
    "**Objectives:**\n",
    "- List popular languages for Data Science\n",
    "- List popular libraries for Data Science\n",
    "- List popular Data Science open-source tools\n",
    "- Show capabilities of Jupyter notebooks"
   ]
  },
  {
   "cell_type": "markdown",
   "id": "24799345-5be5-4475-a176-d0dd5e9860b6",
   "metadata": {},
   "source": [
    "Some of the popular languages that Data Scientists use are:\n",
    "\n",
    "1. Python\n",
    "2. R\n",
    "3. SQL"
   ]
  },
  {
   "cell_type": "markdown",
   "id": "a84407d0-4ced-46da-825f-978db9ea9e90",
   "metadata": {},
   "source": [
    "Some of the commonly used libraries used by Data Scientists include:\n",
    "\n",
    "1. pandas\n",
    "2. numpy\n",
    "3. matplotlib\n",
    "4. scikit-learn\n",
    "5. ggplot\n",
    "6. plotly"
   ]
  },
  {
   "cell_type": "markdown",
   "id": "a3a7c4fc-2f5d-495b-9fd8-aaa44c7bc2be",
   "metadata": {},
   "source": [
    "| Data Science Tools|\n",
    "----\n",
    "| Jupyter |\n",
    "| RStudio |\n",
    "| GitHub |\n",
    "| Docker |"
   ]
  },
  {
   "cell_type": "markdown",
   "id": "0ba1b984-ea36-4da1-a240-f76b33d926c0",
   "metadata": {},
   "source": [
    "### Below are a few examples of evaluating arithmetic expressions in Python"
   ]
  },
  {
   "cell_type": "code",
   "execution_count": 2,
   "id": "d4effd5e-b1c2-4fa2-a6b4-022178d6a456",
   "metadata": {
    "tags": []
   },
   "outputs": [
    {
     "data": {
      "text/plain": [
       "2"
      ]
     },
     "execution_count": 2,
     "metadata": {},
     "output_type": "execute_result"
    }
   ],
   "source": [
    "1+1"
   ]
  },
  {
   "cell_type": "code",
   "execution_count": 3,
   "id": "1bb36d0b-6478-4d11-810f-7f67ca116781",
   "metadata": {
    "tags": []
   },
   "outputs": [
    {
     "data": {
      "text/plain": [
       "1"
      ]
     },
     "execution_count": 3,
     "metadata": {},
     "output_type": "execute_result"
    }
   ],
   "source": [
    "5-4"
   ]
  },
  {
   "cell_type": "code",
   "execution_count": 4,
   "id": "a8d72363-0b82-40eb-b5f0-a000c03a9d2a",
   "metadata": {
    "tags": []
   },
   "outputs": [
    {
     "data": {
      "text/plain": [
       "6"
      ]
     },
     "execution_count": 4,
     "metadata": {},
     "output_type": "execute_result"
    }
   ],
   "source": [
    "3*2"
   ]
  },
  {
   "cell_type": "code",
   "execution_count": 5,
   "id": "480a0f20-482b-4630-ae60-ac3b942648f0",
   "metadata": {
    "tags": []
   },
   "outputs": [
    {
     "data": {
      "text/plain": [
       "8"
      ]
     },
     "execution_count": 5,
     "metadata": {},
     "output_type": "execute_result"
    }
   ],
   "source": [
    "2**3"
   ]
  },
  {
   "cell_type": "code",
   "execution_count": 6,
   "id": "6aa43800-9379-4215-abf4-7138f155f0ac",
   "metadata": {
    "tags": []
   },
   "outputs": [
    {
     "data": {
      "text/plain": [
       "17"
      ]
     },
     "execution_count": 6,
     "metadata": {},
     "output_type": "execute_result"
    }
   ],
   "source": [
    "# This a simple arithmetic expression to mutiply then add integers\n",
    "(3*4)+5"
   ]
  },
  {
   "cell_type": "code",
   "execution_count": 7,
   "id": "5547a876-05b2-43da-acbb-ebcf43816081",
   "metadata": {
    "tags": []
   },
   "outputs": [
    {
     "data": {
      "text/plain": [
       "33.333333333333336"
      ]
     },
     "execution_count": 7,
     "metadata": {},
     "output_type": "execute_result"
    }
   ],
   "source": [
    "# This will convert 200 minutes to hours by diving by 60\n",
    "200 / 6"
   ]
  },
  {
   "cell_type": "markdown",
   "id": "45956228-761a-4699-a688-bd8332a9e11e",
   "metadata": {},
   "source": [
    "## Author\n",
    "Davide Marcantoni"
   ]
  },
  {
   "cell_type": "code",
   "execution_count": null,
   "id": "cb0a82f8-c8f6-431c-9a03-57a9f0990bcf",
   "metadata": {},
   "outputs": [],
   "source": []
  }
 ],
 "metadata": {
  "kernelspec": {
   "display_name": "Python",
   "language": "python",
   "name": "conda-env-python-py"
  },
  "language_info": {
   "codemirror_mode": {
    "name": "ipython",
    "version": 3
   },
   "file_extension": ".py",
   "mimetype": "text/x-python",
   "name": "python",
   "nbconvert_exporter": "python",
   "pygments_lexer": "ipython3",
   "version": "3.7.12"
  }
 },
 "nbformat": 4,
 "nbformat_minor": 5
}
